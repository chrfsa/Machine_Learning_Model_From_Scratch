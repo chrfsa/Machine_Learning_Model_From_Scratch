{
 "cells": [
  {
   "cell_type": "code",
   "execution_count": 1,
   "metadata": {},
   "outputs": [
    {
     "name": "stdout",
     "output_type": "stream",
     "text": [
      "Naive Bayes classification accuracy  0.965\n"
     ]
    }
   ],
   "source": [
    "\n",
    "import numpy as np\n",
    "from sklearn import datasets\n",
    "from sklearn.model_selection import train_test_split\n",
    "class NaiveBayes:\n",
    "\n",
    "  def fit(self, X, y):\n",
    "    n_samples, n_features = X.shape\n",
    "    self._classes = np.unique(y)\n",
    "    n_classes = len(self._classes)\n",
    "\n",
    "    #init mean, var, priors\n",
    "    self._mean = np.zeros((n_classes, n_features), dtype=np.float64)\n",
    "    self._var = np.zeros((n_classes, n_features), dtype=np.float64)\n",
    "    self._priors = np.zeros(n_classes, dtype=np.float64)\n",
    "\n",
    "    for c in self._classes:\n",
    "      X_c = X[c==y]\n",
    "      self._mean[c,:]=X_c.mean(axis=0)\n",
    "      self._var[c,:]=X_c.var(axis=0)\n",
    "      self._priors[c] = X_c.shape[0] / float(n_samples)\n",
    "\n",
    "  def predict(self,X):\n",
    "    y_pred = [self._predict(x) for x in X]\n",
    "    return(y_pred)\n",
    "    \n",
    "  def _predict(self, x):\n",
    "    posteriors = []\n",
    "    for idx, c in enumerate(self._classes):\n",
    "      #print(idx,c)\n",
    "      prior = np.log(self._priors[idx])\n",
    "      class_conditional = np.sum(np.log(self._pdf(idx,x)))\n",
    "      posterior = prior + class_conditional\n",
    "      posteriors.append(posterior)\n",
    "    return(self._classes[np.argmax(posteriors)])\n",
    "\n",
    "\n",
    "    \n",
    "  def _pdf(self, class_idx, x):\n",
    "    mean = self._mean[class_idx]\n",
    "    var = self._var[class_idx]\n",
    "    numerator = np.exp(-(x-mean)**2/(2 * var))\n",
    "    denominator = np.sqrt(2*np.pi*var)\n",
    "    return(numerator/denominator)\n",
    "\n",
    "\n",
    "# Naive Bayes Test\n",
    "\n",
    "\n",
    "def accuracy(y_true, y_pred):\n",
    "  accuracy = np.sum(y_true == y_pred)/len(y_true)\n",
    "  return(accuracy)\n",
    "\n",
    "X,y = datasets.make_classification(n_samples=1000, n_features=10, n_classes=2, random_state=123)\n",
    "X_train, X_test, y_train, y_test = train_test_split(X, y, test_size=0.2, random_state=123)\n",
    "\n",
    "nb = NaiveBayes()\n",
    "nb.fit(X_train, y_train)\n",
    "predictions = nb.predict(X_test)\n",
    "\n",
    "print(\"Naive Bayes classification accuracy \",accuracy(y_test, predictions))\n",
    "\n"
   ]
  }
 ],
 "metadata": {
  "kernelspec": {
   "display_name": "venv",
   "language": "python",
   "name": "python3"
  },
  "language_info": {
   "codemirror_mode": {
    "name": "ipython",
    "version": 3
   },
   "file_extension": ".py",
   "mimetype": "text/x-python",
   "name": "python",
   "nbconvert_exporter": "python",
   "pygments_lexer": "ipython3",
   "version": "3.10.12"
  }
 },
 "nbformat": 4,
 "nbformat_minor": 2
}
